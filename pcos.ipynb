{
 "cells": [
  {
   "cell_type": "markdown",
   "metadata": {},
   "source": [
    "PCOS is a health problem that affects women of childbearing age. Women with PCOS have a hormonal imbalance and metabolism problems that may affect their overall health."
   ]
  },
  {
   "cell_type": "raw",
   "metadata": {},
   "source": [
    "Our Project include following tasks:\n",
    "1.Importing Library\n",
    "2.Loading data\n",
    "3.Data Preprocessing\n",
    "4.Data Visualization\n",
    "5.Model Building"
   ]
  },
  {
   "cell_type": "code",
   "execution_count": 2,
   "metadata": {},
   "outputs": [],
   "source": [
    "#Importing all the libraries that I use in this project\n",
    "import matplotlib.pyplot as plt\n",
    "import seaborn as sns\n",
    "from sklearn.model_selection import train_test_split\n",
    "from sklearn.ensemble import RandomForestClassifier\n",
    "from sklearn.metrics import accuracy_score\n",
    "from sklearn.model_selection import cross_val_score\n",
    "from sklearn.model_selection import GridSearchCV\n",
    "from sklearn.metrics import confusion_matrix\n",
    "from sklearn.metrics import classification_report\n",
    "import numpy as np\n",
    "import pandas as pd"
   ]
  },
  {
   "cell_type": "code",
   "execution_count": 3,
   "metadata": {},
   "outputs": [],
   "source": [
    "#Loding data into the kernels \n",
    "PCOS_inf = pd.read_csv('/Users/parveenkumar/Desktop/PCOS_infertility.csv',delimiter=\",\")\n",
    "PCOS_woinf = pd.read_excel('/Users/parveenkumar/Desktop/PCOS_data_without_infertility.xlsx', sheet_name=\"Full_new\")"
   ]
  },
  {
   "cell_type": "code",
   "execution_count": 4,
   "metadata": {},
   "outputs": [
    {
     "name": "stderr",
     "output_type": "stream",
     "text": [
      "/var/folders/t5/2b8zjxjj5mbb5fkbqcwtrg100000gn/T/ipykernel_19204/958694530.py:3: FutureWarning: Passing 'suffixes' as a <class 'set'>, is not supported and may give unexpected results. Provide 'suffixes' as a tuple instead. In the future a 'TypeError' will be raised.\n",
      "  data = pd.merge(PCOS_woinf,PCOS_inf, on='Patient File No.', suffixes={'','_y'},how='left')\n"
     ]
    },
    {
     "data": {
      "text/html": [
       "<div>\n",
       "<style scoped>\n",
       "    .dataframe tbody tr th:only-of-type {\n",
       "        vertical-align: middle;\n",
       "    }\n",
       "\n",
       "    .dataframe tbody tr th {\n",
       "        vertical-align: top;\n",
       "    }\n",
       "\n",
       "    .dataframe thead th {\n",
       "        text-align: right;\n",
       "    }\n",
       "</style>\n",
       "<table border=\"1\" class=\"dataframe\">\n",
       "  <thead>\n",
       "    <tr style=\"text-align: right;\">\n",
       "      <th></th>\n",
       "      <th>Sl. No</th>\n",
       "      <th>Patient File No.</th>\n",
       "      <th>PCOS (Y/N)</th>\n",
       "      <th>Age (yrs)</th>\n",
       "      <th>Weight (Kg)</th>\n",
       "      <th>Height(Cm)</th>\n",
       "      <th>BMI</th>\n",
       "      <th>Blood Group</th>\n",
       "      <th>Pulse rate(bpm)</th>\n",
       "      <th>RR (breaths/min)</th>\n",
       "      <th>...</th>\n",
       "      <th>Pimples(Y/N)</th>\n",
       "      <th>Fast food (Y/N)</th>\n",
       "      <th>Reg.Exercise(Y/N)</th>\n",
       "      <th>BP _Systolic (mmHg)</th>\n",
       "      <th>BP _Diastolic (mmHg)</th>\n",
       "      <th>Follicle No. (L)</th>\n",
       "      <th>Follicle No. (R)</th>\n",
       "      <th>Avg. F size (L) (mm)</th>\n",
       "      <th>Avg. F size (R) (mm)</th>\n",
       "      <th>Endometrium (mm)</th>\n",
       "    </tr>\n",
       "  </thead>\n",
       "  <tbody>\n",
       "    <tr>\n",
       "      <th>0</th>\n",
       "      <td>1.0</td>\n",
       "      <td>1.0</td>\n",
       "      <td>0.0</td>\n",
       "      <td>28.0</td>\n",
       "      <td>44.6</td>\n",
       "      <td>152.0</td>\n",
       "      <td>19.300000</td>\n",
       "      <td>15.0</td>\n",
       "      <td>78.0</td>\n",
       "      <td>22.0</td>\n",
       "      <td>...</td>\n",
       "      <td>0.0</td>\n",
       "      <td>1.0</td>\n",
       "      <td>0.0</td>\n",
       "      <td>110.0</td>\n",
       "      <td>80.0</td>\n",
       "      <td>3.0</td>\n",
       "      <td>3.0</td>\n",
       "      <td>18.0</td>\n",
       "      <td>18.0</td>\n",
       "      <td>8.5</td>\n",
       "    </tr>\n",
       "    <tr>\n",
       "      <th>1</th>\n",
       "      <td>2.0</td>\n",
       "      <td>2.0</td>\n",
       "      <td>0.0</td>\n",
       "      <td>36.0</td>\n",
       "      <td>65.0</td>\n",
       "      <td>161.5</td>\n",
       "      <td>24.921163</td>\n",
       "      <td>15.0</td>\n",
       "      <td>74.0</td>\n",
       "      <td>20.0</td>\n",
       "      <td>...</td>\n",
       "      <td>0.0</td>\n",
       "      <td>0.0</td>\n",
       "      <td>0.0</td>\n",
       "      <td>120.0</td>\n",
       "      <td>70.0</td>\n",
       "      <td>3.0</td>\n",
       "      <td>5.0</td>\n",
       "      <td>15.0</td>\n",
       "      <td>14.0</td>\n",
       "      <td>3.7</td>\n",
       "    </tr>\n",
       "    <tr>\n",
       "      <th>2</th>\n",
       "      <td>3.0</td>\n",
       "      <td>3.0</td>\n",
       "      <td>1.0</td>\n",
       "      <td>33.0</td>\n",
       "      <td>68.8</td>\n",
       "      <td>165.0</td>\n",
       "      <td>25.270891</td>\n",
       "      <td>11.0</td>\n",
       "      <td>72.0</td>\n",
       "      <td>18.0</td>\n",
       "      <td>...</td>\n",
       "      <td>1.0</td>\n",
       "      <td>1.0</td>\n",
       "      <td>0.0</td>\n",
       "      <td>120.0</td>\n",
       "      <td>80.0</td>\n",
       "      <td>13.0</td>\n",
       "      <td>15.0</td>\n",
       "      <td>18.0</td>\n",
       "      <td>20.0</td>\n",
       "      <td>10.0</td>\n",
       "    </tr>\n",
       "    <tr>\n",
       "      <th>3</th>\n",
       "      <td>4.0</td>\n",
       "      <td>4.0</td>\n",
       "      <td>0.0</td>\n",
       "      <td>37.0</td>\n",
       "      <td>65.0</td>\n",
       "      <td>148.0</td>\n",
       "      <td>29.674945</td>\n",
       "      <td>13.0</td>\n",
       "      <td>72.0</td>\n",
       "      <td>20.0</td>\n",
       "      <td>...</td>\n",
       "      <td>0.0</td>\n",
       "      <td>0.0</td>\n",
       "      <td>0.0</td>\n",
       "      <td>120.0</td>\n",
       "      <td>70.0</td>\n",
       "      <td>2.0</td>\n",
       "      <td>2.0</td>\n",
       "      <td>15.0</td>\n",
       "      <td>14.0</td>\n",
       "      <td>7.5</td>\n",
       "    </tr>\n",
       "    <tr>\n",
       "      <th>4</th>\n",
       "      <td>5.0</td>\n",
       "      <td>5.0</td>\n",
       "      <td>0.0</td>\n",
       "      <td>25.0</td>\n",
       "      <td>52.0</td>\n",
       "      <td>161.0</td>\n",
       "      <td>20.060954</td>\n",
       "      <td>11.0</td>\n",
       "      <td>72.0</td>\n",
       "      <td>18.0</td>\n",
       "      <td>...</td>\n",
       "      <td>0.0</td>\n",
       "      <td>0.0</td>\n",
       "      <td>0.0</td>\n",
       "      <td>120.0</td>\n",
       "      <td>80.0</td>\n",
       "      <td>3.0</td>\n",
       "      <td>4.0</td>\n",
       "      <td>16.0</td>\n",
       "      <td>14.0</td>\n",
       "      <td>7.0</td>\n",
       "    </tr>\n",
       "  </tbody>\n",
       "</table>\n",
       "<p>5 rows × 44 columns</p>\n",
       "</div>"
      ],
      "text/plain": [
       "   Sl. No  Patient File No.  PCOS (Y/N)   Age (yrs)  Weight (Kg)  Height(Cm)   \\\n",
       "0     1.0               1.0         0.0        28.0         44.6        152.0   \n",
       "1     2.0               2.0         0.0        36.0         65.0        161.5   \n",
       "2     3.0               3.0         1.0        33.0         68.8        165.0   \n",
       "3     4.0               4.0         0.0        37.0         65.0        148.0   \n",
       "4     5.0               5.0         0.0        25.0         52.0        161.0   \n",
       "\n",
       "         BMI  Blood Group  Pulse rate(bpm)   RR (breaths/min)  ...  \\\n",
       "0  19.300000         15.0              78.0              22.0  ...   \n",
       "1  24.921163         15.0              74.0              20.0  ...   \n",
       "2  25.270891         11.0              72.0              18.0  ...   \n",
       "3  29.674945         13.0              72.0              20.0  ...   \n",
       "4  20.060954         11.0              72.0              18.0  ...   \n",
       "\n",
       "   Pimples(Y/N)  Fast food (Y/N)  Reg.Exercise(Y/N)  BP _Systolic (mmHg)  \\\n",
       "0           0.0              1.0                0.0                110.0   \n",
       "1           0.0              0.0                0.0                120.0   \n",
       "2           1.0              1.0                0.0                120.0   \n",
       "3           0.0              0.0                0.0                120.0   \n",
       "4           0.0              0.0                0.0                120.0   \n",
       "\n",
       "   BP _Diastolic (mmHg)  Follicle No. (L)  Follicle No. (R)  \\\n",
       "0                  80.0               3.0               3.0   \n",
       "1                  70.0               3.0               5.0   \n",
       "2                  80.0              13.0              15.0   \n",
       "3                  70.0               2.0               2.0   \n",
       "4                  80.0               3.0               4.0   \n",
       "\n",
       "  Avg. F size (L) (mm)  Avg. F size (R) (mm)  Endometrium (mm)  \n",
       "0                 18.0                  18.0               8.5  \n",
       "1                 15.0                  14.0               3.7  \n",
       "2                 18.0                  20.0              10.0  \n",
       "3                 15.0                  14.0               7.5  \n",
       "4                 16.0                  14.0               7.0  \n",
       "\n",
       "[5 rows x 44 columns]"
      ]
     },
     "execution_count": 4,
     "metadata": {},
     "output_type": "execute_result"
    }
   ],
   "source": [
    "#Merging the two files as per patient file no. \n",
    "#The files were sorted into two based on patients with infertility and without infertility\n",
    "data = pd.merge(PCOS_woinf,PCOS_inf, on='Patient File No.', suffixes={'','_y'},how='left')\n",
    "\n",
    "#Dropping the repeated features after merging\n",
    "data =data.drop(['Unnamed: 44', 'Sl. No_y', 'PCOS (Y/N)_y', '  I   beta-HCG(mIU/mL)_y',\n",
    "       'II    beta-HCG(mIU/mL)_y', 'AMH(ng/mL)_y'], axis=1)\n",
    "\n",
    "#Taking a look at the dataset\n",
    "data.head() "
   ]
  },
  {
   "cell_type": "code",
   "execution_count": 5,
   "metadata": {},
   "outputs": [
    {
     "name": "stdout",
     "output_type": "stream",
     "text": [
      "<class 'pandas.core.frame.DataFrame'>\n",
      "Int64Index: 541 entries, 0 to 540\n",
      "Data columns (total 44 columns):\n",
      " #   Column                  Non-Null Count  Dtype  \n",
      "---  ------                  --------------  -----  \n",
      " 0   Sl. No                  541 non-null    float64\n",
      " 1   Patient File No.        541 non-null    float64\n",
      " 2   PCOS (Y/N)              541 non-null    float64\n",
      " 3    Age (yrs)              541 non-null    float64\n",
      " 4   Weight (Kg)             541 non-null    float64\n",
      " 5   Height(Cm)              541 non-null    float64\n",
      " 6   BMI                     541 non-null    float64\n",
      " 7   Blood Group             541 non-null    float64\n",
      " 8   Pulse rate(bpm)         541 non-null    float64\n",
      " 9   RR (breaths/min)        541 non-null    float64\n",
      " 10  Hb(g/dl)                541 non-null    float64\n",
      " 11  Cycle(R/I)              541 non-null    float64\n",
      " 12  Cycle length(days)      541 non-null    float64\n",
      " 13  Marraige Status (Yrs)   540 non-null    float64\n",
      " 14  Pregnant(Y/N)           541 non-null    float64\n",
      " 15  No. of aborptions       541 non-null    float64\n",
      " 16    I   beta-HCG(mIU/mL)  541 non-null    float64\n",
      " 17  II    beta-HCG(mIU/mL)  541 non-null    object \n",
      " 18  FSH(mIU/mL)             541 non-null    float64\n",
      " 19  LH(mIU/mL)              541 non-null    float64\n",
      " 20  FSH/LH                  541 non-null    float64\n",
      " 21  Hip(inch)               541 non-null    float64\n",
      " 22  Waist(inch)             541 non-null    float64\n",
      " 23  Waist:Hip Ratio         541 non-null    float64\n",
      " 24  TSH (mIU/L)             541 non-null    float64\n",
      " 25  AMH(ng/mL)              541 non-null    object \n",
      " 26  PRL(ng/mL)              541 non-null    float64\n",
      " 27  Vit D3 (ng/mL)          541 non-null    float64\n",
      " 28  PRG(ng/mL)              541 non-null    float64\n",
      " 29  RBS(mg/dl)              541 non-null    float64\n",
      " 30  Weight gain(Y/N)        541 non-null    float64\n",
      " 31  hair growth(Y/N)        541 non-null    float64\n",
      " 32  Skin darkening (Y/N)    541 non-null    float64\n",
      " 33  Hair loss(Y/N)          541 non-null    float64\n",
      " 34  Pimples(Y/N)            541 non-null    float64\n",
      " 35  Fast food (Y/N)         540 non-null    float64\n",
      " 36  Reg.Exercise(Y/N)       541 non-null    float64\n",
      " 37  BP _Systolic (mmHg)     541 non-null    float64\n",
      " 38  BP _Diastolic (mmHg)    541 non-null    float64\n",
      " 39  Follicle No. (L)        541 non-null    float64\n",
      " 40  Follicle No. (R)        541 non-null    float64\n",
      " 41  Avg. F size (L) (mm)    541 non-null    float64\n",
      " 42  Avg. F size (R) (mm)    541 non-null    float64\n",
      " 43  Endometrium (mm)        541 non-null    float64\n",
      "dtypes: float64(42), object(2)\n",
      "memory usage: 190.2+ KB\n"
     ]
    }
   ],
   "source": [
    "data.info()"
   ]
  },
  {
   "cell_type": "code",
   "execution_count": 6,
   "metadata": {},
   "outputs": [
    {
     "data": {
      "text/plain": [
       "0    2.07\n",
       "1    1.53\n",
       "2    6.63\n",
       "3    1.22\n",
       "4    2.26\n",
       "Name: AMH(ng/mL), dtype: object"
      ]
     },
     "execution_count": 6,
     "metadata": {},
     "output_type": "execute_result"
    }
   ],
   "source": [
    "#Having a look at the data with dtype objects\n",
    "data[\"AMH(ng/mL)\"].head() "
   ]
  },
  {
   "cell_type": "code",
   "execution_count": 7,
   "metadata": {},
   "outputs": [
    {
     "data": {
      "text/plain": [
       "0      1.99\n",
       "1      1.99\n",
       "2    494.08\n",
       "3      1.99\n",
       "4    801.45\n",
       "Name: II    beta-HCG(mIU/mL), dtype: object"
      ]
     },
     "execution_count": 7,
     "metadata": {},
     "output_type": "execute_result"
    }
   ],
   "source": [
    "#Similarly\n",
    "data[\"II    beta-HCG(mIU/mL)\"].head()"
   ]
  },
  {
   "cell_type": "code",
   "execution_count": 8,
   "metadata": {},
   "outputs": [],
   "source": [
    "#Dealing with categorical values.\n",
    "#In this database the type objects are numeric values saved as strings.\n",
    "#So I am just converting it into a numeric value.\n",
    "\n",
    "data[\"AMH(ng/mL)\"] = pd.to_numeric(data[\"AMH(ng/mL)\"], errors='coerce')\n",
    "data[\"II    beta-HCG(mIU/mL)\"] = pd.to_numeric(data[\"II    beta-HCG(mIU/mL)\"], errors='coerce')\n",
    "\n",
    "#Dealing with missing values. \n",
    "#Filling NA values with the median of that feature.\n",
    "\n",
    "data['Marraige Status (Yrs)'].fillna(data['Marraige Status (Yrs)'].median(),inplace=True)\n",
    "data['II    beta-HCG(mIU/mL)'].fillna(data['II    beta-HCG(mIU/mL)'].median(),inplace=True)\n",
    "data['AMH(ng/mL)'].fillna(data['AMH(ng/mL)'].median(),inplace=True)\n",
    "data['Fast food (Y/N)'].fillna(data['Fast food (Y/N)'].median(),inplace=True)\n",
    "\n",
    "#Clearing up the extra space in the column names (optional)\n",
    "\n",
    "data.columns = [col.strip() for col in data.columns]"
   ]
  },
  {
   "cell_type": "markdown",
   "metadata": {},
   "source": [
    "# Steps involved in EDA\n",
    "\n",
    "\n",
    "\n",
    "#### 1.Feature selection based on the correlation factor\n",
    "#### 2.Patterns Of Length Of The Menstrual Cycle\n",
    "#### 3.Patterns Of BMI\n",
    "#### 4.Patterns Of Irregularity In Mensuration\n",
    "#### 5.Number of Follicles\n",
    "#### 6.Some Miscellaneous EDA"
   ]
  },
  {
   "cell_type": "code",
   "execution_count": 9,
   "metadata": {},
   "outputs": [
    {
     "data": {
      "text/plain": [
       "PCOS (Y/N)                1.000000\n",
       "Follicle No. (R)          0.648327\n",
       "Follicle No. (L)          0.603346\n",
       "Skin darkening (Y/N)      0.475733\n",
       "hair growth(Y/N)          0.464667\n",
       "Weight gain(Y/N)          0.441047\n",
       "Cycle(R/I)                0.401644\n",
       "Fast food (Y/N)           0.376183\n",
       "Pimples(Y/N)              0.286077\n",
       "AMH(ng/mL)                0.264141\n",
       "Weight (Kg)               0.211938\n",
       "BMI                       0.199534\n",
       "Hair loss(Y/N)            0.172879\n",
       "Waist(inch)               0.164598\n",
       "Hip(inch)                 0.162297\n",
       "Avg. F size (L) (mm)      0.132992\n",
       "Endometrium (mm)          0.106648\n",
       "Avg. F size (R) (mm)      0.097690\n",
       "Pulse rate(bpm)           0.091821\n",
       "Hb(g/dl)                  0.087170\n",
       "Vit D3 (ng/mL)            0.085494\n",
       "Height(Cm)                0.068254\n",
       "Reg.Exercise(Y/N)         0.065337\n",
       "LH(mIU/mL)                0.063879\n",
       "Sl. No                    0.060998\n",
       "Patient File No.          0.060998\n",
       "RBS(mg/dl)                0.048922\n",
       "BP _Diastolic (mmHg)      0.038032\n",
       "RR (breaths/min)          0.036928\n",
       "Blood Group               0.036433\n",
       "II    beta-HCG(mIU/mL)    0.012760\n",
       "Waist:Hip Ratio           0.012386\n",
       "BP _Systolic (mmHg)       0.007942\n",
       "PRL(ng/mL)                0.005143\n",
       "TSH (mIU/L)              -0.010140\n",
       "FSH/LH                   -0.018336\n",
       "Pregnant(Y/N)            -0.027565\n",
       "I   beta-HCG(mIU/mL)     -0.027617\n",
       "FSH(mIU/mL)              -0.030319\n",
       "PRG(ng/mL)               -0.043834\n",
       "No. of aborptions        -0.057158\n",
       "Marraige Status (Yrs)    -0.113056\n",
       "Age (yrs)                -0.168513\n",
       "Cycle length(days)       -0.178480\n",
       "Name: PCOS (Y/N), dtype: float64"
      ]
     },
     "execution_count": 9,
     "metadata": {},
     "output_type": "execute_result"
    }
   ],
   "source": [
    "#How all the features correlate with the PCOS \n",
    "corrmat = data.corr()\n",
    "corrmat[\"PCOS (Y/N)\"].sort_values(ascending=False)"
   ]
  },
  {
   "cell_type": "code",
   "execution_count": 10,
   "metadata": {},
   "outputs": [
    {
     "data": {
      "image/png": "[encoded data removed]",
      "text/plain": [
       "<Figure size 422.625x360 with 1 Axes>"
      ]
     },
     "metadata": {
      "needs_background": "light"
     },
     "output_type": "display_data"
    }
   ],
   "source": [
    "# Length of menstrual phase in PCOS vs normal \n",
    "color = [\"blue\", \"red\"]\n",
    "fig=sns.lmplot(data=data,x=\"Age (yrs)\",y=\"Cycle length(days)\", hue=\"PCOS (Y/N)\",palette=color)\n",
    "plt.show(fig)"
   ]
  },
  {
   "cell_type": "code",
   "execution_count": 11,
   "metadata": {},
   "outputs": [
    {
     "data": {
      "image/png": "[encoded data removed]",
      "text/plain": [
       "<Figure size 422.625x360 with 1 Axes>"
      ]
     },
     "metadata": {
      "needs_background": "light"
     },
     "output_type": "display_data"
    }
   ],
   "source": [
    "# Pattern of weight gain (BMI) over years in PCOS and Normal. \n",
    "fig= sns.lmplot(data =data,x=\"Age (yrs)\",y=\"BMI\", hue=\"PCOS (Y/N)\", palette= color )\n",
    "plt.show(fig)"
   ]
  },
  {
   "cell_type": "markdown",
   "metadata": {},
   "source": [
    "# Model building"
   ]
  },
  {
   "cell_type": "code",
   "execution_count": 12,
   "metadata": {},
   "outputs": [],
   "source": [
    "X=data.drop([\"PCOS (Y/N)\",\"Sl. No\",\"Patient File No.\"],axis = 1) #droping out index from features too\n",
    "y=data[\"PCOS (Y/N)\"]\n",
    "\n",
    "#Splitting the data into test and training sets\n",
    "\n",
    "X_train,X_test, y_train, y_test = train_test_split(X,y, test_size=0.3) "
   ]
  },
  {
   "cell_type": "code",
   "execution_count": 13,
   "metadata": {},
   "outputs": [
    {
     "name": "stdout",
     "output_type": "stream",
     "text": [
      "0.8650306748466258\n"
     ]
    }
   ],
   "source": [
    "#Fitting the RandomForestClassifier to the training set\n",
    "\n",
    "rfc = RandomForestClassifier()\n",
    "rfc.fit(X_train, y_train)\n",
    "\n",
    "#Making prediction and checking the test set\n",
    "\n",
    "pred_rfc = rfc.predict(X_test)\n",
    "accuracy = accuracy_score(y_test, pred_rfc)\n",
    "print(accuracy)"
   ]
  },
  {
   "cell_type": "code",
   "execution_count": null,
   "metadata": {},
   "outputs": [],
   "source": [
    "#Building a dictionalry with list of optional values that will me analyesed by GridSearch CV\n",
    "\n",
    "parameters = { \n",
    "    'n_estimators': [100,150, 200,500,700],\n",
    "    'max_features': ['auto', 'sqrt', 'log2'],\n",
    "    'max_depth' : [4,5,6,7,8,9,10,12],\n",
    "    'criterion' :['gini', 'entropy'],\n",
    "    'n_jobs':[-1,1,None]\n",
    "}\n",
    "\n",
    "#Fitting the trainingset to find parameters with best accuracy\n",
    "\n",
    "CV_rfc = GridSearchCV(estimator=rfc, param_grid=parameters, cv= 7)\n",
    "CV_rfc.fit(X_train, y_train)\n",
    "\n",
    "#Getting the outcome of gridsearch\n",
    "\n",
    "CV_rfc.best_params_\n"
   ]
  },
  {
   "cell_type": "code",
   "execution_count": null,
   "metadata": {},
   "outputs": [],
   "source": [
    "#Fitting the model with selected parameters\n",
    "\n",
    "rfc1=RandomForestClassifier(**CV_rfc.best_params_)\n",
    "rfc1.fit(X_train, y_train)\n",
    "\n",
    "#Testing the Model on test set\n",
    "\n",
    "predictions=rfc1.predict(X_test)\n",
    "acccuracy_final = accuracy_score(y_test,predictions)\n",
    "acccuracy_final "
   ]
  },
  {
   "cell_type": "code",
   "execution_count": null,
   "metadata": {},
   "outputs": [],
   "source": [
    "classi_report = classification_report(y_test, predictions)\n",
    "print(classi_report)"
   ]
  }
 ],
 "metadata": {
  "kernelspec": {
   "display_name": "Python 3 (ipykernel)",
   "language": "python",
   "name": "python3"
  },
  "language_info": {
   "codemirror_mode": {
    "name": "ipython",
    "version": 3
   },
   "file_extension": ".py",
   "mimetype": "text/x-python",
   "name": "python",
   "nbconvert_exporter": "python",
   "pygments_lexer": "ipython3",
   "version": "3.8.5"
  }
 },
 "nbformat": 4,
 "nbformat_minor": 4
}
